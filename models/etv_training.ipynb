{
 "cells": [
  {
   "cell_type": "code",
   "execution_count": 1,
   "metadata": {},
   "outputs": [
    {
     "name": "stderr",
     "output_type": "stream",
     "text": [
      "/Users/bradeneberhard/miniforge3/lib/python3.9/site-packages/tqdm/auto.py:22: TqdmWarning: IProgress not found. Please update jupyter and ipywidgets. See https://ipywidgets.readthedocs.io/en/stable/user_install.html\n",
      "  from .autonotebook import tqdm as notebook_tqdm\n"
     ]
    }
   ],
   "source": [
    "import sys\n",
    "sys.path.append('../')\n",
    "import pandas as pd\n",
    "import joblib\n",
    "from helper_files.modelling_functions import get_data, process_data, run_optuna_trials, evaluate_models, get_data_config, get_best_model\n",
    "from helper_files.modelling_configs import *\n",
    "from helper_files.etv_model import ETVModel"
   ]
  },
  {
   "cell_type": "code",
   "execution_count": 2,
   "metadata": {},
   "outputs": [],
   "source": [
    "data_path = '../data/processed/data_splits_1003.jblb'\n",
    "train_df, test_df_time, test_df_random, test_df_thrower = get_data(data_path)\n",
    "test_dfs = [test_df_random, test_df_time, test_df_thrower]\n",
    "storage = 'sqlite:///model_tuning.db'\n",
    "train_df = train_df[train_df['throw_distance'] >= 1]\n",
    "MIRROR = True\n",
    "NOISE_FACTOR=0.03\n",
    "SMOTE=True"
   ]
  },
  {
   "cell_type": "code",
   "execution_count": 3,
   "metadata": {},
   "outputs": [],
   "source": [
    "# features = thrower_context\n",
    "# target = 'outcome' \n",
    "# data_config = get_data_config(features, target, train_df, test_dfs, False)\n",
    "# best_models, best_params = run_optuna_trials(data_config, model_config, suffix='fv_base_augment_all', delete_models=True, storage=storage)\n",
    "# metrics_df = evaluate_models(best_models, data_config)\n",
    "# metrics_df"
   ]
  },
  {
   "cell_type": "code",
   "execution_count": 4,
   "metadata": {},
   "outputs": [
    {
     "name": "stderr",
     "output_type": "stream",
     "text": [
      "[I 2024-10-07 13:46:12,334] A new study created in RDB with name: logreg_fv_point_game_augment_all\n",
      "[I 2024-10-07 13:46:15,755] Trial 0 finished with value: 0.6005099683427593 and parameters: {}. Best is trial 0 with value: 0.6005099683427593.\n",
      "[I 2024-10-07 13:46:16,541] A new study created in RDB with name: xgb_fv_point_game_augment_all\n",
      "[I 2024-10-07 13:47:06,307] Trial 0 finished with value: 0.5712967450037622 and parameters: {'learning_rate': 0.00046670757021238915, 'max_depth': 9, 'n_estimators': 146}. Best is trial 0 with value: 0.5712967450037622.\n",
      "[I 2024-10-07 13:47:11,934] Trial 1 finished with value: 0.5479917685787328 and parameters: {'learning_rate': 0.14320800448569002, 'max_depth': 1, 'n_estimators': 51}. Best is trial 0 with value: 0.5712967450037622.\n",
      "[I 2024-10-07 13:47:32,704] Trial 2 finished with value: 0.6569764669992921 and parameters: {'learning_rate': 0.6504795697248025, 'max_depth': 7, 'n_estimators': 174}. Best is trial 2 with value: 0.6569764669992921.\n",
      "[I 2024-10-07 13:47:47,019] Trial 3 finished with value: 0.5324152016696813 and parameters: {'learning_rate': 0.0013418509473542277, 'max_depth': 5, 'n_estimators': 139}. Best is trial 2 with value: 0.6569764669992921.\n",
      "[I 2024-10-07 13:47:52,402] Trial 4 finished with value: 0.5789218457899299 and parameters: {'learning_rate': 0.062309588429294856, 'max_depth': 7, 'n_estimators': 29}. Best is trial 2 with value: 0.6569764669992921.\n",
      "[I 2024-10-07 13:48:25,899] Trial 5 finished with value: 0.5646642012983571 and parameters: {'learning_rate': 0.0019615118754290352, 'max_depth': 8, 'n_estimators': 135}. Best is trial 2 with value: 0.6569764669992921.\n",
      "[I 2024-10-07 13:48:33,376] Trial 6 finished with value: 0.5297840629460027 and parameters: {'learning_rate': 0.013935847018658968, 'max_depth': 5, 'n_estimators': 41}. Best is trial 2 with value: 0.6569764669992921.\n",
      "[I 2024-10-07 13:48:55,757] Trial 7 finished with value: 0.5987168030292432 and parameters: {'learning_rate': 0.24714289974421733, 'max_depth': 3, 'n_estimators': 151}. Best is trial 2 with value: 0.6569764669992921.\n",
      "[I 2024-10-07 13:49:20,937] Trial 8 finished with value: 0.6526065197419906 and parameters: {'learning_rate': 0.3189164776598588, 'max_depth': 9, 'n_estimators': 86}. Best is trial 2 with value: 0.6569764669992921.\n",
      "[I 2024-10-07 13:50:06,219] Trial 9 finished with value: 0.5500043982077576 and parameters: {'learning_rate': 0.0008777146750393943, 'max_depth': 7, 'n_estimators': 194}. Best is trial 2 with value: 0.6569764669992921.\n"
     ]
    },
    {
     "data": {
      "text/html": [
       "<div>\n",
       "<style scoped>\n",
       "    .dataframe tbody tr th:only-of-type {\n",
       "        vertical-align: middle;\n",
       "    }\n",
       "\n",
       "    .dataframe tbody tr th {\n",
       "        vertical-align: top;\n",
       "    }\n",
       "\n",
       "    .dataframe thead th {\n",
       "        text-align: right;\n",
       "    }\n",
       "</style>\n",
       "<table border=\"1\" class=\"dataframe\">\n",
       "  <thead>\n",
       "    <tr style=\"text-align: right;\">\n",
       "      <th></th>\n",
       "      <th>Model</th>\n",
       "      <th>train_AUC</th>\n",
       "      <th>train_Accuracy</th>\n",
       "      <th>train_NPV</th>\n",
       "      <th>test_df_random_AUC</th>\n",
       "      <th>test_df_random_Accuracy</th>\n",
       "      <th>test_df_random_NPV</th>\n",
       "      <th>test_df_time_AUC</th>\n",
       "      <th>test_df_time_Accuracy</th>\n",
       "      <th>test_df_time_NPV</th>\n",
       "      <th>test_df_thrower_AUC</th>\n",
       "      <th>test_df_thrower_Accuracy</th>\n",
       "      <th>test_df_thrower_NPV</th>\n",
       "    </tr>\n",
       "  </thead>\n",
       "  <tbody>\n",
       "    <tr>\n",
       "      <th>0</th>\n",
       "      <td>logreg</td>\n",
       "      <td>0.641222</td>\n",
       "      <td>0.600599</td>\n",
       "      <td>0.597388</td>\n",
       "      <td>0.642159</td>\n",
       "      <td>0.597074</td>\n",
       "      <td>0.379897</td>\n",
       "      <td>0.637801</td>\n",
       "      <td>0.587946</td>\n",
       "      <td>0.393540</td>\n",
       "      <td>0.630402</td>\n",
       "      <td>0.576824</td>\n",
       "      <td>0.344634</td>\n",
       "    </tr>\n",
       "    <tr>\n",
       "      <th>1</th>\n",
       "      <td>xgb</td>\n",
       "      <td>0.843223</td>\n",
       "      <td>0.755312</td>\n",
       "      <td>0.798441</td>\n",
       "      <td>0.745195</td>\n",
       "      <td>0.750182</td>\n",
       "      <td>0.670657</td>\n",
       "      <td>0.739694</td>\n",
       "      <td>0.734070</td>\n",
       "      <td>0.657537</td>\n",
       "      <td>0.741067</td>\n",
       "      <td>0.765357</td>\n",
       "      <td>0.650722</td>\n",
       "    </tr>\n",
       "  </tbody>\n",
       "</table>\n",
       "</div>"
      ],
      "text/plain": [
       "    Model  train_AUC  train_Accuracy  train_NPV  test_df_random_AUC  \\\n",
       "0  logreg   0.641222        0.600599   0.597388            0.642159   \n",
       "1     xgb   0.843223        0.755312   0.798441            0.745195   \n",
       "\n",
       "   test_df_random_Accuracy  test_df_random_NPV  test_df_time_AUC  \\\n",
       "0                 0.597074            0.379897          0.637801   \n",
       "1                 0.750182            0.670657          0.739694   \n",
       "\n",
       "   test_df_time_Accuracy  test_df_time_NPV  test_df_thrower_AUC  \\\n",
       "0               0.587946          0.393540             0.630402   \n",
       "1               0.734070          0.657537             0.741067   \n",
       "\n",
       "   test_df_thrower_Accuracy  test_df_thrower_NPV  \n",
       "0                  0.576824             0.344634  \n",
       "1                  0.765357             0.650722  "
      ]
     },
     "execution_count": 4,
     "metadata": {},
     "output_type": "execute_result"
    }
   ],
   "source": [
    "features = thrower_context + game_context\n",
    "target = 'point_outcome'  \n",
    "data_config = get_data_config(features, target, train_df, test_dfs, mirror=MIRROR, noise_factor=NOISE_FACTOR, smote=SMOTE)\n",
    "best_models, best_params = run_optuna_trials(data_config, model_config, suffix='fv_point_game_augment_all', delete_models=True, storage=storage)\n",
    "metrics_df = evaluate_models(best_models, data_config)\n",
    "metrics_df"
   ]
  },
  {
   "cell_type": "code",
   "execution_count": 5,
   "metadata": {},
   "outputs": [],
   "source": [
    "# features = thrower_context + receiver_context\n",
    "# target = 'completion'  \n",
    "# data_config = get_data_config(features, target, train_df, test_dfs, mirror=MIRROR, noise_factor=NOISE_FACTOR, smote=SMOTE)\n",
    "# best_models, best_params = run_optuna_trials(data_config, model_config, suffix='cp_base_augment_all', delete_models=True, storage=storage)\n",
    "# metrics_df = evaluate_models(best_models, data_config)\n",
    "# metrics_df"
   ]
  },
  {
   "cell_type": "code",
   "execution_count": 6,
   "metadata": {},
   "outputs": [
    {
     "name": "stderr",
     "output_type": "stream",
     "text": [
      "[I 2024-10-07 13:50:33,607] A new study created in RDB with name: logreg_cp_game_augment_all\n",
      "[I 2024-10-07 13:51:28,812] Trial 0 finished with value: 0.810339098642452 and parameters: {}. Best is trial 0 with value: 0.810339098642452.\n",
      "[I 2024-10-07 13:51:41,833] A new study created in RDB with name: xgb_cp_game_augment_all\n",
      "[I 2024-10-07 13:53:09,020] Trial 0 finished with value: 0.8084930704292652 and parameters: {'learning_rate': 0.000781901776362083, 'max_depth': 10, 'n_estimators': 116}. Best is trial 0 with value: 0.8084930704292652.\n",
      "[I 2024-10-07 13:54:15,307] Trial 1 finished with value: 0.8095131802946467 and parameters: {'learning_rate': 0.002080470857638685, 'max_depth': 10, 'n_estimators': 82}. Best is trial 1 with value: 0.8095131802946467.\n",
      "[I 2024-10-07 13:54:38,690] Trial 2 finished with value: 0.8398168377749977 and parameters: {'learning_rate': 0.05120140715790603, 'max_depth': 8, 'n_estimators': 34}. Best is trial 2 with value: 0.8398168377749977.\n",
      "[I 2024-10-07 13:55:07,998] Trial 3 finished with value: 0.852738388898086 and parameters: {'learning_rate': 0.10015071208108732, 'max_depth': 3, 'n_estimators': 106}. Best is trial 3 with value: 0.852738388898086.\n",
      "[I 2024-10-07 13:55:38,943] Trial 4 finished with value: 0.7237421111507485 and parameters: {'learning_rate': 0.007918783281843055, 'max_depth': 2, 'n_estimators': 111}. Best is trial 3 with value: 0.852738388898086.\n",
      "[I 2024-10-07 13:56:17,398] Trial 5 finished with value: 0.7180639934046892 and parameters: {'learning_rate': 0.0021917723878574417, 'max_depth': 2, 'n_estimators': 168}. Best is trial 3 with value: 0.852738388898086.\n",
      "[I 2024-10-07 13:56:55,395] Trial 6 finished with value: 0.7601395991877091 and parameters: {'learning_rate': 0.00803681859779572, 'max_depth': 2, 'n_estimators': 197}. Best is trial 3 with value: 0.852738388898086.\n",
      "[I 2024-10-07 13:57:14,917] Trial 7 finished with value: 0.7162808829413236 and parameters: {'learning_rate': 0.00506554969538258, 'max_depth': 1, 'n_estimators': 69}. Best is trial 3 with value: 0.852738388898086.\n",
      "[I 2024-10-07 13:57:44,802] Trial 8 finished with value: 0.8684779478292063 and parameters: {'learning_rate': 0.3417593356680333, 'max_depth': 6, 'n_estimators': 53}. Best is trial 8 with value: 0.8684779478292063.\n",
      "[I 2024-10-07 13:58:09,189] Trial 9 finished with value: 0.7303075743253095 and parameters: {'learning_rate': 0.0002661798096043947, 'max_depth': 5, 'n_estimators': 26}. Best is trial 8 with value: 0.8684779478292063.\n"
     ]
    },
    {
     "data": {
      "text/html": [
       "<div>\n",
       "<style scoped>\n",
       "    .dataframe tbody tr th:only-of-type {\n",
       "        vertical-align: middle;\n",
       "    }\n",
       "\n",
       "    .dataframe tbody tr th {\n",
       "        vertical-align: top;\n",
       "    }\n",
       "\n",
       "    .dataframe thead th {\n",
       "        text-align: right;\n",
       "    }\n",
       "</style>\n",
       "<table border=\"1\" class=\"dataframe\">\n",
       "  <thead>\n",
       "    <tr style=\"text-align: right;\">\n",
       "      <th></th>\n",
       "      <th>Model</th>\n",
       "      <th>train_AUC</th>\n",
       "      <th>train_Accuracy</th>\n",
       "      <th>train_NPV</th>\n",
       "      <th>test_df_random_AUC</th>\n",
       "      <th>test_df_random_Accuracy</th>\n",
       "      <th>test_df_random_NPV</th>\n",
       "      <th>test_df_time_AUC</th>\n",
       "      <th>test_df_time_Accuracy</th>\n",
       "      <th>test_df_time_NPV</th>\n",
       "      <th>test_df_thrower_AUC</th>\n",
       "      <th>test_df_thrower_Accuracy</th>\n",
       "      <th>test_df_thrower_NPV</th>\n",
       "    </tr>\n",
       "  </thead>\n",
       "  <tbody>\n",
       "    <tr>\n",
       "      <th>0</th>\n",
       "      <td>logreg</td>\n",
       "      <td>0.877816</td>\n",
       "      <td>0.810457</td>\n",
       "      <td>0.886783</td>\n",
       "      <td>0.720087</td>\n",
       "      <td>0.883189</td>\n",
       "      <td>0.275824</td>\n",
       "      <td>0.688134</td>\n",
       "      <td>0.884940</td>\n",
       "      <td>0.267275</td>\n",
       "      <td>0.743133</td>\n",
       "      <td>0.881200</td>\n",
       "      <td>0.266240</td>\n",
       "    </tr>\n",
       "    <tr>\n",
       "      <th>1</th>\n",
       "      <td>xgb</td>\n",
       "      <td>0.958694</td>\n",
       "      <td>0.892689</td>\n",
       "      <td>0.922956</td>\n",
       "      <td>0.803087</td>\n",
       "      <td>0.933336</td>\n",
       "      <td>0.507484</td>\n",
       "      <td>0.792577</td>\n",
       "      <td>0.934925</td>\n",
       "      <td>0.506757</td>\n",
       "      <td>0.819415</td>\n",
       "      <td>0.937092</td>\n",
       "      <td>0.508301</td>\n",
       "    </tr>\n",
       "  </tbody>\n",
       "</table>\n",
       "</div>"
      ],
      "text/plain": [
       "    Model  train_AUC  train_Accuracy  train_NPV  test_df_random_AUC  \\\n",
       "0  logreg   0.877816        0.810457   0.886783            0.720087   \n",
       "1     xgb   0.958694        0.892689   0.922956            0.803087   \n",
       "\n",
       "   test_df_random_Accuracy  test_df_random_NPV  test_df_time_AUC  \\\n",
       "0                 0.883189            0.275824          0.688134   \n",
       "1                 0.933336            0.507484          0.792577   \n",
       "\n",
       "   test_df_time_Accuracy  test_df_time_NPV  test_df_thrower_AUC  \\\n",
       "0               0.884940          0.267275             0.743133   \n",
       "1               0.934925          0.506757             0.819415   \n",
       "\n",
       "   test_df_thrower_Accuracy  test_df_thrower_NPV  \n",
       "0                  0.881200             0.266240  \n",
       "1                  0.937092             0.508301  "
      ]
     },
     "execution_count": 6,
     "metadata": {},
     "output_type": "execute_result"
    }
   ],
   "source": [
    "features = thrower_context + receiver_context + throw_context + game_context\n",
    "target = 'completion'\n",
    "data_config = get_data_config(features, target, train_df, test_dfs, mirror=MIRROR, noise_factor=NOISE_FACTOR, smote=SMOTE)\n",
    "best_models, best_params = run_optuna_trials(data_config, model_config, suffix='cp_game_augment_all', delete_models=True, storage=storage)\n",
    "metrics_df = evaluate_models(best_models, data_config)\n",
    "metrics_df"
   ]
  },
  {
   "cell_type": "code",
   "execution_count": 7,
   "metadata": {},
   "outputs": [],
   "source": [
    "# features = thrower_context + receiver_context + throw_context + game_context + player_context\n",
    "# target = 'completion' \n",
    "# data_config = get_data_config(features, target, train_df, test_dfs, False)\n",
    "# best_models, best_params = run_optuna_trials(data_config, model_config, suffix='cp_game_player', delete_models=True, storage=storage)\n",
    "# metrics_df = evaluate_models(best_models, data_config)\n",
    "# metrics_df"
   ]
  },
  {
   "cell_type": "code",
   "execution_count": 8,
   "metadata": {},
   "outputs": [
    {
     "data": {
      "text/plain": [
       "['../data/models/all_models_augment_all.jblb']"
      ]
     },
     "execution_count": 8,
     "metadata": {},
     "output_type": "execute_result"
    }
   ],
   "source": [
    "study_name='xgb_cp_game_augment_all'\n",
    "features = thrower_context + receiver_context + throw_context + game_context\n",
    "target = 'completion'\n",
    "cp_model = get_best_model(study_name, storage, train_df, test_dfs, model_config, features, target, mirror=MIRROR, noise_factor=NOISE_FACTOR, smote=SMOTE)\n",
    "study_name='xgb_fv_point_game_augment_all'\n",
    "features = thrower_context + game_context\n",
    "target = 'point_outcome'\n",
    "fv_model= get_best_model(study_name, storage, train_df, test_dfs, model_config, features, target, mirror=MIRROR, noise_factor=NOISE_FACTOR, smote=SMOTE)\n",
    "\n",
    "\n",
    "etv_model = ETVModel(cp_model, fv_model)\n",
    "joblib.dump({'cp_model':cp_model, 'fv_model':fv_model, 'etv_model':etv_model}, '../data/models/all_models_augment_all.jblb')"
   ]
  }
 ],
 "metadata": {
  "kernelspec": {
   "display_name": "base",
   "language": "python",
   "name": "python3"
  },
  "language_info": {
   "codemirror_mode": {
    "name": "ipython",
    "version": 3
   },
   "file_extension": ".py",
   "mimetype": "text/x-python",
   "name": "python",
   "nbconvert_exporter": "python",
   "pygments_lexer": "ipython3",
   "version": "3.9.13"
  }
 },
 "nbformat": 4,
 "nbformat_minor": 2
}
