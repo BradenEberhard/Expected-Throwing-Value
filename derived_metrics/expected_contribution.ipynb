{
 "cells": [
  {
   "cell_type": "code",
   "execution_count": 48,
   "metadata": {},
   "outputs": [],
   "source": [
    "import sys\n",
    "sys.path.append('../')\n",
    "import pandas as pd\n",
    "import numpy as np\n",
    "import joblib\n",
    "import ast\n",
    "from tqdm import tqdm\n",
    "tqdm.pandas()"
   ]
  },
  {
   "cell_type": "code",
   "execution_count": 3,
   "metadata": {},
   "outputs": [
    {
     "name": "stderr",
     "output_type": "stream",
     "text": [
      "/Users/bradeneberhard/miniforge3/lib/python3.9/site-packages/tqdm/auto.py:22: TqdmWarning: IProgress not found. Please update jupyter and ipywidgets. See https://ipywidgets.readthedocs.io/en/stable/user_install.html\n",
      "  from .autonotebook import tqdm as notebook_tqdm\n"
     ]
    }
   ],
   "source": [
    "filepath='../data/all_blocks_0926.csv'\n",
    "models = joblib.load('../data/models/all_models.jblb')\n",
    "data = joblib.load('../data/processed/data_1003.jblb')['df']\n"
   ]
  },
  {
   "cell_type": "code",
   "execution_count": 7,
   "metadata": {},
   "outputs": [
    {
     "data": {
      "text/plain": [
       "['thrower_x',\n",
       " 'thrower_y',\n",
       " 'possession_num',\n",
       " 'possession_throw',\n",
       " 'game_quarter',\n",
       " 'quarter_point',\n",
       " 'score_diff',\n",
       " 'times']"
      ]
     },
     "execution_count": 7,
     "metadata": {},
     "output_type": "execute_result"
    }
   ],
   "source": [
    "models['fv_model']['features']"
   ]
  },
  {
   "cell_type": "code",
   "execution_count": 32,
   "metadata": {},
   "outputs": [],
   "source": [
    "fv_before_throw_df = models['fv_model']['scaler'].transform(data[models['fv_model']['features']])\n",
    "fv_before_throw = models['fv_model']['model'].predict_proba(fv_before_throw_df)[:,1]\n",
    "receiver_features = [x.replace('thrower', 'receiver') for x in models['fv_model']['features']]\n",
    "fv_after_throw_df = data[receiver_features]\n",
    "fv_after_throw_df = fv_after_throw_df.rename(columns={'receiver_x': 'thrower_x', 'receiver_y': 'thrower_y'})\n",
    "\n",
    "\n",
    "\n",
    "fv_opponent_after_throw_df = fv_after_throw_df.copy()\n",
    "fv_opponent_after_throw_df.loc[:, 'thrower_x'] = -fv_opponent_after_throw_df.loc[:, 'thrower_x']\n",
    "fv_opponent_after_throw_df.loc[:, 'thrower_y'] = (120 - fv_opponent_after_throw_df.loc[:, 'thrower_y']).clip(lower=20, upper=100)\n",
    "fv_opponent_after_throw_df.loc[:, 'possession_num'] += 1\n",
    "fv_opponent_after_throw_df.loc[:, 'possession_throw'] = 1\n",
    "fv_opponent_after_throw_df.loc[:, 'score_diff'] = -fv_opponent_after_throw_df.loc[:, 'score_diff']\n",
    "\n",
    "fv_after_throw_df = models['fv_model']['scaler'].transform(fv_after_throw_df)\n",
    "fv_after_throw = models['fv_model']['model'].predict_proba(fv_after_throw_df)[:,1]\n",
    "\n",
    "fv_opponent_after_throw_df = models['fv_model']['scaler'].transform(fv_opponent_after_throw_df)\n",
    "fv_opponent_after_throw = models['fv_model']['model'].predict_proba(fv_opponent_after_throw_df)[:,1]\n",
    "\n",
    "data['ec'] = np.where(data['turnover'] == 1, \n",
    "                      fv_opponent_after_throw - fv_before_throw,  # Use opponent FV if turnover\n",
    "                      fv_after_throw - fv_before_throw)  # Otherwise use regular FV"
   ]
  },
  {
   "cell_type": "code",
   "execution_count": 61,
   "metadata": {},
   "outputs": [
    {
     "data": {
      "text/html": [
       "<div>\n",
       "<style scoped>\n",
       "    .dataframe tbody tr th:only-of-type {\n",
       "        vertical-align: middle;\n",
       "    }\n",
       "\n",
       "    .dataframe tbody tr th {\n",
       "        vertical-align: top;\n",
       "    }\n",
       "\n",
       "    .dataframe thead th {\n",
       "        text-align: right;\n",
       "    }\n",
       "</style>\n",
       "<table border=\"1\" class=\"dataframe\">\n",
       "  <thead>\n",
       "    <tr style=\"text-align: right;\">\n",
       "      <th></th>\n",
       "      <th>ec</th>\n",
       "    </tr>\n",
       "    <tr>\n",
       "      <th>thrower</th>\n",
       "      <th></th>\n",
       "    </tr>\n",
       "  </thead>\n",
       "  <tbody>\n",
       "    <tr>\n",
       "      <th>bgfroerer</th>\n",
       "      <td>-0.003982</td>\n",
       "    </tr>\n",
       "    <tr>\n",
       "      <th>ocable</th>\n",
       "      <td>-0.001527</td>\n",
       "    </tr>\n",
       "    <tr>\n",
       "      <th>gmartin</th>\n",
       "      <td>-0.001221</td>\n",
       "    </tr>\n",
       "    <tr>\n",
       "      <th>mhanna</th>\n",
       "      <td>0.001316</td>\n",
       "    </tr>\n",
       "    <tr>\n",
       "      <th>awilsonho</th>\n",
       "      <td>0.001742</td>\n",
       "    </tr>\n",
       "    <tr>\n",
       "      <th>...</th>\n",
       "      <td>...</td>\n",
       "    </tr>\n",
       "    <tr>\n",
       "      <th>jfloyd</th>\n",
       "      <td>0.038382</td>\n",
       "    </tr>\n",
       "    <tr>\n",
       "      <th>bthoennes</th>\n",
       "      <td>0.038457</td>\n",
       "    </tr>\n",
       "    <tr>\n",
       "      <th>amuraoka</th>\n",
       "      <td>0.039749</td>\n",
       "    </tr>\n",
       "    <tr>\n",
       "      <th>jwollin</th>\n",
       "      <td>0.041340</td>\n",
       "    </tr>\n",
       "    <tr>\n",
       "      <th>sroberts</th>\n",
       "      <td>0.047067</td>\n",
       "    </tr>\n",
       "  </tbody>\n",
       "</table>\n",
       "<p>419 rows × 1 columns</p>\n",
       "</div>"
      ],
      "text/plain": [
       "                 ec\n",
       "thrower            \n",
       "bgfroerer -0.003982\n",
       "ocable    -0.001527\n",
       "gmartin   -0.001221\n",
       "mhanna     0.001316\n",
       "awilsonho  0.001742\n",
       "...             ...\n",
       "jfloyd     0.038382\n",
       "bthoennes  0.038457\n",
       "amuraoka   0.039749\n",
       "jwollin    0.041340\n",
       "sroberts   0.047067\n",
       "\n",
       "[419 rows x 1 columns]"
      ]
     },
     "execution_count": 61,
     "metadata": {},
     "output_type": "execute_result"
    }
   ],
   "source": [
    "thrower_counts = data['thrower'].value_counts()\n",
    "valid_throwers = thrower_counts[thrower_counts > 200].index\n",
    "filtered_data = data[data['thrower'].isin(valid_throwers)]\n",
    "result = filtered_data.groupby(['thrower']).agg({'ec': 'mean'}).sort_values('ec')\n",
    "result"
   ]
  },
  {
   "cell_type": "code",
   "execution_count": 49,
   "metadata": {},
   "outputs": [
    {
     "name": "stderr",
     "output_type": "stream",
     "text": [
      "100%|██████████| 1560/1560 [02:27<00:00, 10.55it/s]\n"
     ]
    }
   ],
   "source": [
    "data['current_line'] = data['current_line'].apply(lambda x: ast.literal_eval(x) if isinstance(x, str) else x)\n",
    "df_exploded = data.explode('current_line')\n",
    "\n",
    "\n",
    "results = []\n",
    "def get_unique_count(player):\n",
    "    unique_combos = df_exploded[df_exploded['current_line'] == player].drop_duplicates(\n",
    "        subset=['gameID', 'quarter_point', 'home_team_score', 'away_team_score', 'possession_num']\n",
    "    )\n",
    "    return len(unique_combos)\n",
    "unique_players = df_exploded['thrower'].unique()\n",
    "for player in tqdm(unique_players):\n",
    "    count = get_unique_count(player)\n",
    "    results.append({'thrower': player, 'unique_count': count})\n",
    "final_df = pd.DataFrame(results)"
   ]
  },
  {
   "cell_type": "code",
   "execution_count": 62,
   "metadata": {},
   "outputs": [],
   "source": [
    "foo = pd.merge(result, final_df, how='left', on='thrower')\n",
    "foo['ec_per_possession'] = foo.ec / foo.unique_count"
   ]
  },
  {
   "cell_type": "code",
   "execution_count": 63,
   "metadata": {},
   "outputs": [
    {
     "data": {
      "text/html": [
       "<div>\n",
       "<style scoped>\n",
       "    .dataframe tbody tr th:only-of-type {\n",
       "        vertical-align: middle;\n",
       "    }\n",
       "\n",
       "    .dataframe tbody tr th {\n",
       "        vertical-align: top;\n",
       "    }\n",
       "\n",
       "    .dataframe thead th {\n",
       "        text-align: right;\n",
       "    }\n",
       "</style>\n",
       "<table border=\"1\" class=\"dataframe\">\n",
       "  <thead>\n",
       "    <tr style=\"text-align: right;\">\n",
       "      <th></th>\n",
       "      <th>thrower</th>\n",
       "      <th>ec</th>\n",
       "      <th>unique_count</th>\n",
       "      <th>ec_per_possession</th>\n",
       "    </tr>\n",
       "  </thead>\n",
       "  <tbody>\n",
       "    <tr>\n",
       "      <th>0</th>\n",
       "      <td>bgfroerer</td>\n",
       "      <td>-0.003982</td>\n",
       "      <td>286</td>\n",
       "      <td>-0.000014</td>\n",
       "    </tr>\n",
       "    <tr>\n",
       "      <th>1</th>\n",
       "      <td>ocable</td>\n",
       "      <td>-0.001527</td>\n",
       "      <td>445</td>\n",
       "      <td>-0.000003</td>\n",
       "    </tr>\n",
       "    <tr>\n",
       "      <th>2</th>\n",
       "      <td>gmartin</td>\n",
       "      <td>-0.001221</td>\n",
       "      <td>876</td>\n",
       "      <td>-0.000001</td>\n",
       "    </tr>\n",
       "    <tr>\n",
       "      <th>4</th>\n",
       "      <td>awilsonho</td>\n",
       "      <td>0.001742</td>\n",
       "      <td>709</td>\n",
       "      <td>0.000002</td>\n",
       "    </tr>\n",
       "    <tr>\n",
       "      <th>3</th>\n",
       "      <td>mhanna</td>\n",
       "      <td>0.001316</td>\n",
       "      <td>385</td>\n",
       "      <td>0.000003</td>\n",
       "    </tr>\n",
       "    <tr>\n",
       "      <th>...</th>\n",
       "      <td>...</td>\n",
       "      <td>...</td>\n",
       "      <td>...</td>\n",
       "      <td>...</td>\n",
       "    </tr>\n",
       "    <tr>\n",
       "      <th>406</th>\n",
       "      <td>cbrown1</td>\n",
       "      <td>0.035932</td>\n",
       "      <td>171</td>\n",
       "      <td>0.000210</td>\n",
       "    </tr>\n",
       "    <tr>\n",
       "      <th>418</th>\n",
       "      <td>sroberts</td>\n",
       "      <td>0.047067</td>\n",
       "      <td>207</td>\n",
       "      <td>0.000227</td>\n",
       "    </tr>\n",
       "    <tr>\n",
       "      <th>373</th>\n",
       "      <td>amiller1</td>\n",
       "      <td>0.029097</td>\n",
       "      <td>119</td>\n",
       "      <td>0.000245</td>\n",
       "    </tr>\n",
       "    <tr>\n",
       "      <th>416</th>\n",
       "      <td>amuraoka</td>\n",
       "      <td>0.039749</td>\n",
       "      <td>148</td>\n",
       "      <td>0.000269</td>\n",
       "    </tr>\n",
       "    <tr>\n",
       "      <th>400</th>\n",
       "      <td>dsmith</td>\n",
       "      <td>0.034341</td>\n",
       "      <td>113</td>\n",
       "      <td>0.000304</td>\n",
       "    </tr>\n",
       "  </tbody>\n",
       "</table>\n",
       "<p>419 rows × 4 columns</p>\n",
       "</div>"
      ],
      "text/plain": [
       "       thrower        ec  unique_count  ec_per_possession\n",
       "0    bgfroerer -0.003982           286          -0.000014\n",
       "1       ocable -0.001527           445          -0.000003\n",
       "2      gmartin -0.001221           876          -0.000001\n",
       "4    awilsonho  0.001742           709           0.000002\n",
       "3       mhanna  0.001316           385           0.000003\n",
       "..         ...       ...           ...                ...\n",
       "406    cbrown1  0.035932           171           0.000210\n",
       "418   sroberts  0.047067           207           0.000227\n",
       "373   amiller1  0.029097           119           0.000245\n",
       "416   amuraoka  0.039749           148           0.000269\n",
       "400     dsmith  0.034341           113           0.000304\n",
       "\n",
       "[419 rows x 4 columns]"
      ]
     },
     "execution_count": 63,
     "metadata": {},
     "output_type": "execute_result"
    }
   ],
   "source": [
    "foo.sort_values('ec_per_possession')"
   ]
  }
 ],
 "metadata": {
  "kernelspec": {
   "display_name": "base",
   "language": "python",
   "name": "python3"
  },
  "language_info": {
   "codemirror_mode": {
    "name": "ipython",
    "version": 3
   },
   "file_extension": ".py",
   "mimetype": "text/x-python",
   "name": "python",
   "nbconvert_exporter": "python",
   "pygments_lexer": "ipython3",
   "version": "3.9.13"
  }
 },
 "nbformat": 4,
 "nbformat_minor": 2
}
